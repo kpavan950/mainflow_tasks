{
 "cells": [
  {
   "cell_type": "code",
   "execution_count": 1,
   "metadata": {},
   "outputs": [
    {
     "name": "stdout",
     "output_type": "stream",
     "text": [
      "The missing number is: 3\n"
     ]
    }
   ],
   "source": [
    "def find_missing_number(arr):\n",
    "    n = len(arr) + 1  # Since the array has one number missing, its size is n-1\n",
    "    expected_sum = (n * (n + 1)) // 2  # Sum of numbers from 1 to n+1\n",
    "    actual_sum = sum(arr)  # Sum of numbers in the given array\n",
    "    return expected_sum - actual_sum  # The difference is the missing number\n",
    "\n",
    "# Example usage\n",
    "arr = [1, 2, 4, 5, 6]\n",
    "missing_number = find_missing_number(arr)\n",
    "print(\"The missing number is:\", missing_number)"
   ]
  },
  {
   "cell_type": "code",
   "execution_count": 2,
   "metadata": {},
   "outputs": [
    {
     "name": "stdout",
     "output_type": "stream",
     "text": [
      "Balanced\n"
     ]
    }
   ],
   "source": [
    "def is_balanced(s):\n",
    "    stack = []\n",
    "    # Dictionary to match closing parentheses to opening ones\n",
    "    matching_parentheses = {')': '(', '}': '{', ']': '['}\n",
    "    \n",
    "    for char in s:\n",
    "        if char in matching_parentheses.values():\n",
    "            # If it's an opening parenthesis, push it onto the stack\n",
    "            stack.append(char)\n",
    "        elif char in matching_parentheses.keys():\n",
    "            # If it's a closing parenthesis, check for match with stack\n",
    "            if stack and stack[-1] == matching_parentheses[char]:\n",
    "                stack.pop()  # Pop the matched opening parenthesis\n",
    "            else:\n",
    "                return False  # Mismatch found or stack is empty when it shouldn't be\n",
    "    \n",
    "    # If the stack is empty, all parentheses were matched\n",
    "    return len(stack) == 0\n",
    "\n",
    "# Example usage\n",
    "s = \"{[()()]}\"\n",
    "result = is_balanced(s)\n",
    "print(\"Balanced\" if result else \"Not Balanced\")"
   ]
  },
  {
   "cell_type": "code",
   "execution_count": 3,
   "metadata": {},
   "outputs": [
    {
     "name": "stdout",
     "output_type": "stream",
     "text": [
      "The longest word is: jumped\n"
     ]
    }
   ],
   "source": [
    "def longest_word(sentence):\n",
    "    # Split the sentence into words\n",
    "    words = sentence.split()\n",
    "    \n",
    "    # Find the longest word by comparing lengths\n",
    "    longest = max(words, key=len)\n",
    "    \n",
    "    return longest\n",
    "\n",
    "# Example usage\n",
    "sentence = \"The quick brown fox jumped over the lazy dog\"\n",
    "longest = longest_word(sentence)\n",
    "print(\"The longest word is:\", longest)"
   ]
  },
  {
   "cell_type": "code",
   "execution_count": 4,
   "metadata": {},
   "outputs": [
    {
     "name": "stdout",
     "output_type": "stream",
     "text": [
      "The number of words is: 9\n"
     ]
    }
   ],
   "source": [
    "def count_words(sentence):\n",
    "    # Split the sentence into words\n",
    "    words = sentence.split()\n",
    "    \n",
    "    # Return the number of words\n",
    "    return len(words)\n",
    "\n",
    "# Example usage\n",
    "sentence = \"The quick brown fox jumped over the lazy dog\"\n",
    "word_count = count_words(sentence)\n",
    "print(\"The number of words is:\", word_count)"
   ]
  },
  {
   "cell_type": "code",
   "execution_count": 5,
   "metadata": {},
   "outputs": [
    {
     "name": "stdout",
     "output_type": "stream",
     "text": [
      "The numbers form a Pythagorean triplet: True\n"
     ]
    }
   ],
   "source": [
    "def is_pythagorean_triplet(a, b, c):\n",
    "    # Sort the numbers to make sure 'c' is the largest\n",
    "    a, b, c = sorted([a, b, c])\n",
    "    \n",
    "    # Check if it satisfies the Pythagorean triplet equation\n",
    "    return a**2 + b**2 == c**2\n",
    "\n",
    "# Example usage\n",
    "a = 3\n",
    "b = 4\n",
    "c = 5\n",
    "result = is_pythagorean_triplet(a, b, c)\n",
    "print(\"The numbers form a Pythagorean triplet:\", result)"
   ]
  },
  {
   "cell_type": "code",
   "execution_count": 6,
   "metadata": {},
   "outputs": [
    {
     "name": "stdout",
     "output_type": "stream",
     "text": [
      "Sorted list: [11, 12, 22, 25, 34, 64, 90]\n"
     ]
    }
   ],
   "source": [
    "def bubble_sort(arr):\n",
    "    n = len(arr)\n",
    "    \n",
    "    # Traverse through all list elements\n",
    "    for i in range(n):\n",
    "        # Last i elements are already sorted, so we don't need to check them\n",
    "        swapped = False  # Flag to check if any swapping occurred in this pass\n",
    "        \n",
    "        for j in range(0, n - i - 1):\n",
    "            # Compare adjacent elements\n",
    "            if arr[j] > arr[j + 1]:\n",
    "                # Swap if the elements are in the wrong order\n",
    "                arr[j], arr[j + 1] = arr[j + 1], arr[j]\n",
    "                swapped = True\n",
    "        \n",
    "        # If no two elements were swapped in the inner loop, the list is already sorted\n",
    "        if not swapped:\n",
    "            break\n",
    "    \n",
    "    return arr\n",
    "\n",
    "# Example usage\n",
    "arr = [64, 34, 25, 12, 22, 11, 90]\n",
    "sorted_arr = bubble_sort(arr)\n",
    "print(\"Sorted list:\", sorted_arr)"
   ]
  },
  {
   "cell_type": "code",
   "execution_count": 7,
   "metadata": {},
   "outputs": [
    {
     "name": "stdout",
     "output_type": "stream",
     "text": [
      "Target 7 found at index 3.\n"
     ]
    }
   ],
   "source": [
    "def binary_search(arr, target):\n",
    "    left, right = 0, len(arr) - 1  # Initialize pointers\n",
    "    \n",
    "    while left <= right:\n",
    "        mid = (left + right) // 2  # Find the middle index\n",
    "        \n",
    "        # Check if the target is at the middle\n",
    "        if arr[mid] == target:\n",
    "            return mid\n",
    "        # If target is greater, ignore the left half\n",
    "        elif arr[mid] < target:\n",
    "            left = mid + 1\n",
    "        # If target is smaller, ignore the right half\n",
    "        else:\n",
    "            right = mid - 1\n",
    "    \n",
    "    # If target is not found, return -1\n",
    "    return -1\n",
    "\n",
    "# Example usage\n",
    "arr = [1, 3, 5, 7, 9, 11, 13, 15, 17]\n",
    "target = 7\n",
    "result = binary_search(arr, target)\n",
    "\n",
    "if result != -1:\n",
    "    print(f\"Target {target} found at index {result}.\")\n",
    "else:\n",
    "    print(f\"Target {target} not found.\")"
   ]
  },
  {
   "cell_type": "code",
   "execution_count": 8,
   "metadata": {},
   "outputs": [
    {
     "name": "stdout",
     "output_type": "stream",
     "text": [
      "Subarray with given sum found between indices 2 and 4.\n"
     ]
    }
   ],
   "source": [
    "def find_subarray_with_given_sum(arr, target_sum):\n",
    "    # Initialize the left pointer and the current sum\n",
    "    current_sum = 0\n",
    "    left = 0\n",
    "    # Iterate through the array with the right pointer\n",
    "    for right in range(len(arr)):\n",
    "        # Add the current element to the current sum\n",
    "        current_sum += arr[right]\n",
    "        \n",
    "        # Shrink the window from the left if the sum exceeds the target\n",
    "        while current_sum > target_sum and left <= right:\n",
    "            current_sum -= arr[left]\n",
    "            left += 1\n",
    "        \n",
    "        # Check if we found the subarray with the given sum\n",
    "        if current_sum == target_sum:\n",
    "            return (left, right)  # Return the indices of the subarray\n",
    "    \n",
    "    # If no subarray is found, return -1\n",
    "    return -1\n",
    "# Example usage\n",
    "arr = [1, 4, 20, 3, 10, 5]\n",
    "target_sum = 33\n",
    "result = find_subarray_with_given_sum(arr, target_sum)\n",
    "\n",
    "if result != -1:\n",
    "    print(f\"Subarray with given sum found between indices {result[0]} and {result[1]}.\")\n",
    "else:\n",
    "    print(\"No subarray with the given sum exists.\")"
   ]
  },
  {
   "cell_type": "code",
   "execution_count": 9,
   "metadata": {},
   "outputs": [
    {
     "ename": "FileNotFoundError",
     "evalue": "[Errno 2] No such file or directory: 'web_server.log'",
     "output_type": "error",
     "traceback": [
      "\u001b[1;31m---------------------------------------------------------------------------\u001b[0m",
      "\u001b[1;31mFileNotFoundError\u001b[0m                         Traceback (most recent call last)",
      "Cell \u001b[1;32mIn[9], line 53\u001b[0m\n\u001b[0;32m     50\u001b[0m     display_top_n(url_count)\n\u001b[0;32m     52\u001b[0m \u001b[38;5;28;01mif\u001b[39;00m \u001b[38;5;18m__name__\u001b[39m \u001b[38;5;241m==\u001b[39m \u001b[38;5;124m\"\u001b[39m\u001b[38;5;124m__main__\u001b[39m\u001b[38;5;124m\"\u001b[39m:\n\u001b[1;32m---> 53\u001b[0m     main()\n",
      "Cell \u001b[1;32mIn[9], line 42\u001b[0m, in \u001b[0;36mmain\u001b[1;34m()\u001b[0m\n\u001b[0;32m     40\u001b[0m \u001b[38;5;28;01mdef\u001b[39;00m \u001b[38;5;21mmain\u001b[39m():\n\u001b[0;32m     41\u001b[0m     file_path \u001b[38;5;241m=\u001b[39m \u001b[38;5;124m'\u001b[39m\u001b[38;5;124mweb_server.log\u001b[39m\u001b[38;5;124m'\u001b[39m  \u001b[38;5;66;03m# Example log file path\u001b[39;00m\n\u001b[1;32m---> 42\u001b[0m     ip_count, response_code_count, url_count \u001b[38;5;241m=\u001b[39m analyze_logs(file_path)\n\u001b[0;32m     44\u001b[0m     \u001b[38;5;66;03m# Display top 5 most frequent IP addresses, response codes, and URLs\u001b[39;00m\n\u001b[0;32m     45\u001b[0m     \u001b[38;5;28mprint\u001b[39m(\u001b[38;5;124m\"\u001b[39m\u001b[38;5;124mMost Frequent IP Addresses:\u001b[39m\u001b[38;5;124m\"\u001b[39m)\n",
      "Cell \u001b[1;32mIn[9], line 22\u001b[0m, in \u001b[0;36manalyze_logs\u001b[1;34m(file_path)\u001b[0m\n\u001b[0;32m     19\u001b[0m url_count \u001b[38;5;241m=\u001b[39m defaultdict(\u001b[38;5;28mint\u001b[39m)\n\u001b[0;32m     21\u001b[0m \u001b[38;5;66;03m# Open the log file and process line by line\u001b[39;00m\n\u001b[1;32m---> 22\u001b[0m \u001b[38;5;28;01mwith\u001b[39;00m \u001b[38;5;28mopen\u001b[39m(file_path, \u001b[38;5;124m'\u001b[39m\u001b[38;5;124mr\u001b[39m\u001b[38;5;124m'\u001b[39m) \u001b[38;5;28;01mas\u001b[39;00m file:\n\u001b[0;32m     23\u001b[0m     \u001b[38;5;28;01mfor\u001b[39;00m line \u001b[38;5;129;01min\u001b[39;00m file:\n\u001b[0;32m     24\u001b[0m         ip, response_code, url \u001b[38;5;241m=\u001b[39m parse_log_line(line)\n",
      "File \u001b[1;32mc:\\Users\\pavan kalyan\\anaconda3\\anaconda\\Lib\\site-packages\\IPython\\core\\interactiveshell.py:324\u001b[0m, in \u001b[0;36m_modified_open\u001b[1;34m(file, *args, **kwargs)\u001b[0m\n\u001b[0;32m    317\u001b[0m \u001b[38;5;28;01mif\u001b[39;00m file \u001b[38;5;129;01min\u001b[39;00m {\u001b[38;5;241m0\u001b[39m, \u001b[38;5;241m1\u001b[39m, \u001b[38;5;241m2\u001b[39m}:\n\u001b[0;32m    318\u001b[0m     \u001b[38;5;28;01mraise\u001b[39;00m \u001b[38;5;167;01mValueError\u001b[39;00m(\n\u001b[0;32m    319\u001b[0m         \u001b[38;5;124mf\u001b[39m\u001b[38;5;124m\"\u001b[39m\u001b[38;5;124mIPython won\u001b[39m\u001b[38;5;124m'\u001b[39m\u001b[38;5;124mt let you open fd=\u001b[39m\u001b[38;5;132;01m{\u001b[39;00mfile\u001b[38;5;132;01m}\u001b[39;00m\u001b[38;5;124m by default \u001b[39m\u001b[38;5;124m\"\u001b[39m\n\u001b[0;32m    320\u001b[0m         \u001b[38;5;124m\"\u001b[39m\u001b[38;5;124mas it is likely to crash IPython. If you know what you are doing, \u001b[39m\u001b[38;5;124m\"\u001b[39m\n\u001b[0;32m    321\u001b[0m         \u001b[38;5;124m\"\u001b[39m\u001b[38;5;124myou can use builtins\u001b[39m\u001b[38;5;124m'\u001b[39m\u001b[38;5;124m open.\u001b[39m\u001b[38;5;124m\"\u001b[39m\n\u001b[0;32m    322\u001b[0m     )\n\u001b[1;32m--> 324\u001b[0m \u001b[38;5;28;01mreturn\u001b[39;00m io_open(file, \u001b[38;5;241m*\u001b[39margs, \u001b[38;5;241m*\u001b[39m\u001b[38;5;241m*\u001b[39mkwargs)\n",
      "\u001b[1;31mFileNotFoundError\u001b[0m: [Errno 2] No such file or directory: 'web_server.log'"
     ]
    }
   ],
   "source": [
    "import re\n",
    "from collections import defaultdict\n",
    "# Function to parse a line of log in the combined log format (common log format can be adapted similarly)\n",
    "def parse_log_line(line):\n",
    "    # Regular expression to match common log format or combined log format\n",
    "    log_pattern = r'(\\d+\\.\\d+\\.\\d+\\.\\d+) - - \\[.*\\] \".*\" (\\d{3}) \\d+ \".*\" \"(.*)\"'\n",
    "    match = re.match(log_pattern, line) \n",
    "    if match:\n",
    "        ip_address = match.group(1)\n",
    "        response_code = match.group(2)\n",
    "        url = match.group(3)\n",
    "        return ip_address, response_code, url\n",
    "    else:\n",
    "        return None, None, None\n",
    "# Function to process the log file and extract the most frequent data\n",
    "def analyze_logs(file_path):\n",
    "    ip_count = defaultdict(int)\n",
    "    response_code_count = defaultdict(int)\n",
    "    url_count = defaultdict(int)\n",
    "    \n",
    "    # Open the log file and process line by line\n",
    "    with open(file_path, 'r') as file:\n",
    "        for line in file:\n",
    "            ip, response_code, url = parse_log_line(line)\n",
    "            \n",
    "            if ip and response_code and url:\n",
    "                # Update counts for IP, response codes, and URLs\n",
    "                ip_count[ip] += 1\n",
    "                response_code_count[response_code] += 1\n",
    "                url_count[url] += 1\n",
    "    \n",
    "    return ip_count, response_code_count, url_count\n",
    "# Function to display the top N frequent items\n",
    "def display_top_n(count_dict, n=5):\n",
    "    sorted_items = sorted(count_dict.items(), key=lambda item: item[1], reverse=True)\n",
    "    print(f\"Top {n} items:\")\n",
    "    for i, (item, count) in enumerate(sorted_items[:n]):\n",
    "        print(f\"{i+1}. {item}: {count} occurrences\")\n",
    "# Main function to analyze log file and display results\n",
    "def main():\n",
    "    file_path = 'web_server.log'  # Example log file path\n",
    "    ip_count, response_code_count, url_count = analyze_logs(file_path)\n",
    "    \n",
    "    # Display top 5 most frequent IP addresses, response codes, and URLs\n",
    "    print(\"Most Frequent IP Addresses:\")\n",
    "    display_top_n(ip_count)\n",
    "    print(\"\\nMost Frequent Response Codes:\")\n",
    "    display_top_n(response_code_count)\n",
    "    print(\"\\nMost Frequent URLs:\")\n",
    "    display_top_n(url_count)\n",
    "\n",
    "if __name__ == \"__main__\":\n",
    "    main()"
   ]
  }
 ],
 "metadata": {
  "kernelspec": {
   "display_name": "base",
   "language": "python",
   "name": "python3"
  },
  "language_info": {
   "codemirror_mode": {
    "name": "ipython",
    "version": 3
   },
   "file_extension": ".py",
   "mimetype": "text/x-python",
   "name": "python",
   "nbconvert_exporter": "python",
   "pygments_lexer": "ipython3",
   "version": "3.12.4"
  }
 },
 "nbformat": 4,
 "nbformat_minor": 2
}
