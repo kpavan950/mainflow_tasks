{
 "cells": [
  {
   "cell_type": "code",
   "execution_count": 1,
   "metadata": {},
   "outputs": [
    {
     "name": "stdout",
     "output_type": "stream",
     "text": [
      "4 x 1 = 4\n",
      "4 x 2 = 8\n",
      "4 x 3 = 12\n",
      "4 x 4 = 16\n",
      "4 x 5 = 20\n",
      "4 x 6 = 24\n",
      "4 x 7 = 28\n",
      "4 x 8 = 32\n",
      "4 x 9 = 36\n",
      "4 x 10 = 40\n"
     ]
    }
   ],
   "source": [
    "# Get input from the user\n",
    "n = int(input(\"Enter a number: \"))\n",
    "\n",
    "# Print the multiplication table for the given number\n",
    "for i in range(1, 11):\n",
    "    print(f\"{n} x {i} = {n * i}\")"
   ]
  },
  {
   "cell_type": "code",
   "execution_count": 2,
   "metadata": {},
   "outputs": [
    {
     "name": "stdout",
     "output_type": "stream",
     "text": [
      "After swapping:\n",
      "a = 5\n",
      "b = 3\n"
     ]
    }
   ],
   "source": [
    "# Input two integers\n",
    "a = int(input(\"Enter the first number: \"))\n",
    "b = int(input(\"Enter the second number: \"))\n",
    "\n",
    "# Swap using arithmetic operations\n",
    "a = a + b\n",
    "b = a - b\n",
    "a = a - b\n",
    "\n",
    "# Print the swapped values\n",
    "print(\"After swapping:\")\n",
    "print(f\"a = {a}\")\n",
    "print(f\"b = {b}\")"
   ]
  },
  {
   "cell_type": "code",
   "execution_count": 3,
   "metadata": {},
   "outputs": [
    {
     "name": "stdout",
     "output_type": "stream",
     "text": [
      "True\n"
     ]
    }
   ],
   "source": [
    "# Input two strings\n",
    "s1 = input(\"Enter the main string: \")\n",
    "s2 = input(\"Enter the substring: \")\n",
    "\n",
    "# Check if s2 is a substring of s1\n",
    "if s2 in s1:\n",
    "    print(True)\n",
    "else:\n",
    "    print(False)"
   ]
  },
  {
   "cell_type": "code",
   "execution_count": 4,
   "metadata": {},
   "outputs": [
    {
     "name": "stdout",
     "output_type": "stream",
     "text": [
      "Binary representation: 1010\n"
     ]
    }
   ],
   "source": [
    "# Input: Decimal number\n",
    "n = int(input(\"Enter a decimal number: \"))\n",
    "\n",
    "# Convert to binary using bin() function\n",
    "binary_rep = bin(n)[2:]  # Slice off the '0b' prefix\n",
    "\n",
    "# Output the binary representation\n",
    "print(\"Binary representation:\", binary_rep)"
   ]
  },
  {
   "cell_type": "code",
   "execution_count": null,
   "metadata": {},
   "outputs": [
    {
     "name": "stdout",
     "output_type": "stream",
     "text": [
      "Sum of the matrices:\n",
      "[10, 10, 10]\n",
      "[10, 10, 10]\n",
      "[10, 10, 10]\n"
     ]
    }
   ],
   "source": [
    "# Function to add two matrices\n",
    "def add_matrices(matrix1, matrix2):\n",
    "    # Get the number of rows and columns\n",
    "    rows = len(matrix1)\n",
    "    cols = len(matrix1[0])\n",
    "    # Initialize the result matrix with zeros\n",
    "    result = [[0 for _ in range(cols)] for _ in range(rows)]\n",
    "\n",
    "    # Iterate through each element and add corresponding elements\n",
    "    for i in range(rows):\n",
    "        for j in range(cols):\n",
    "            result[i][j] = matrix1[i][j] + matrix2[i][j]\n",
    "    return result\n",
    "# Input: Two matrices\n",
    "matrix1 = [\n",
    "    [1, 2, 3],\n",
    "    [4, 5, 6],\n",
    "    [7, 8, 9]\n",
    "]\n",
    "matrix2 = [\n",
    "    [9, 8, 7],\n",
    "    [6, 5, 4],\n",
    "    [3, 2, 1]\n",
    "]\n",
    "# Perform matrix addition\n",
    "result_matrix = add_matrices(matrix1, matrix2)\n",
    "# Output: Resulting matrix\n",
    "print(\"Sum of the matrices:\")\n",
    "for row in result_matrix:\n",
    "    print(row)"
   ]
  },
  {
   "cell_type": "code",
   "execution_count": 6,
   "metadata": {},
   "outputs": [
    {
     "name": "stdout",
     "output_type": "stream",
     "text": [
      "Product of the matrices:\n",
      "[19, 22]\n",
      "[43, 50]\n"
     ]
    }
   ],
   "source": [
    "# Function to multiply two matrices\n",
    "def multiply_matrices(A, B):\n",
    "    # Number of rows in A and columns in B\n",
    "    rows_A = len(A)\n",
    "    cols_A = len(A[0])\n",
    "    rows_B = len(B)\n",
    "    cols_B = len(B[0])\n",
    "    # Initialize the result matrix with zeros\n",
    "    result = [[0 for _ in range(cols_B)] for _ in range(rows_A)]\n",
    "    # Matrix multiplication: Multiply rows of A by columns of B\n",
    "    for i in range(rows_A):\n",
    "        for j in range(cols_B):\n",
    "            # Sum the product of corresponding elements\n",
    "            for k in range(cols_A):  # or range(rows_B), since cols_A == rows_B\n",
    "                result[i][j] += A[i][k] * B[k][j]\n",
    "    return result\n",
    "# Input: Two matrices\n",
    "A = [\n",
    "    [1, 2],\n",
    "    [3, 4]\n",
    "]\n",
    "B = [\n",
    "    [5, 6],\n",
    "    [7, 8]\n",
    "]\n",
    "# Perform matrix multiplication\n",
    "result_matrix = multiply_matrices(A, B)\n",
    "# Output: Resulting product matrix\n",
    "print(\"Product of the matrices:\")\n",
    "for row in result_matrix:\n",
    "    print(row)"
   ]
  },
  {
   "cell_type": "code",
   "execution_count": 7,
   "metadata": {},
   "outputs": [
    {
     "name": "stdout",
     "output_type": "stream",
     "text": [
      "Second largest number: 45\n"
     ]
    }
   ],
   "source": [
    "def find_second_largest(nums):\n",
    "    # Sort the list in descending order\n",
    "    nums.sort(reverse=True)\n",
    "    \n",
    "    # The second largest will be at index 1\n",
    "    return nums[1] if len(nums) > 1 else None\n",
    "\n",
    "# Input: A list of integers\n",
    "numbers = [10, 20, 4, 45, 99]\n",
    "\n",
    "# Output: The second largest number\n",
    "second_largest = find_second_largest(numbers)\n",
    "print(\"Second largest number:\", second_largest)"
   ]
  },
  {
   "cell_type": "code",
   "execution_count": 9,
   "metadata": {},
   "outputs": [
    {
     "name": "stdout",
     "output_type": "stream",
     "text": [
      "True\n"
     ]
    }
   ],
   "source": [
    "def are_anagrams(str1, str2):\n",
    "    # Sort both strings and check if they are equal\n",
    "    return sorted(str1) == sorted(str2)\n",
    "\n",
    "# Input: Two strings\n",
    "string1 = input(\"Enter the first string: \")\n",
    "string2 = input(\"Enter the second string: \")\n",
    "\n",
    "# Check if the strings are anagrams\n",
    "if are_anagrams(string1, string2):\n",
    "    print(\"True\")\n",
    "else:\n",
    "    print(\"False\")"
   ]
  },
  {
   "cell_type": "code",
   "execution_count": 12,
   "metadata": {},
   "outputs": [
    {
     "name": "stdout",
     "output_type": "stream",
     "text": [
      "  |   |  \n",
      "-----\n",
      "  |   |  \n",
      "-----\n",
      "  |   |  \n",
      "-----\n",
      "Player's turn (X):\n",
      "AI's turn (O):\n",
      "AI chooses: 0 0\n",
      "O |   |  \n",
      "-----\n",
      "  | X |  \n",
      "-----\n",
      "  |   |  \n",
      "-----\n",
      "Player's turn (X):\n",
      "Invalid move! Try again.\n",
      "O |   |  \n",
      "-----\n",
      "  | X |  \n",
      "-----\n",
      "  |   |  \n",
      "-----\n",
      "Player's turn (X):\n",
      "AI's turn (O):\n",
      "AI chooses: 0 2\n",
      "O |   | O\n",
      "-----\n",
      "  | X |  \n",
      "-----\n",
      "  |   | X\n",
      "-----\n",
      "Player's turn (X):\n",
      "Invalid move! Try again.\n",
      "O |   | O\n",
      "-----\n",
      "  | X |  \n",
      "-----\n",
      "  |   | X\n",
      "-----\n",
      "Player's turn (X):\n"
     ]
    },
    {
     "ename": "ValueError",
     "evalue": "not enough values to unpack (expected 2, got 0)",
     "output_type": "error",
     "traceback": [
      "\u001b[1;31m---------------------------------------------------------------------------\u001b[0m",
      "\u001b[1;31mValueError\u001b[0m                                Traceback (most recent call last)",
      "Cell \u001b[1;32mIn[12], line 128\u001b[0m\n\u001b[0;32m    125\u001b[0m             \u001b[38;5;28;01mbreak\u001b[39;00m\n\u001b[0;32m    127\u001b[0m \u001b[38;5;28;01mif\u001b[39;00m \u001b[38;5;18m__name__\u001b[39m \u001b[38;5;241m==\u001b[39m \u001b[38;5;124m\"\u001b[39m\u001b[38;5;124m__main__\u001b[39m\u001b[38;5;124m\"\u001b[39m:\n\u001b[1;32m--> 128\u001b[0m     play_game()\n",
      "Cell \u001b[1;32mIn[12], line 91\u001b[0m, in \u001b[0;36mplay_game\u001b[1;34m()\u001b[0m\n\u001b[0;32m     89\u001b[0m \u001b[38;5;66;03m# Player's move\u001b[39;00m\n\u001b[0;32m     90\u001b[0m \u001b[38;5;28mprint\u001b[39m(\u001b[38;5;124m\"\u001b[39m\u001b[38;5;124mPlayer\u001b[39m\u001b[38;5;124m'\u001b[39m\u001b[38;5;124ms turn (X):\u001b[39m\u001b[38;5;124m\"\u001b[39m)\n\u001b[1;32m---> 91\u001b[0m row, col \u001b[38;5;241m=\u001b[39m \u001b[38;5;28mmap\u001b[39m(\u001b[38;5;28mint\u001b[39m, \u001b[38;5;28minput\u001b[39m(\u001b[38;5;124m\"\u001b[39m\u001b[38;5;124mEnter row and column (0-2) separated by space: \u001b[39m\u001b[38;5;124m\"\u001b[39m)\u001b[38;5;241m.\u001b[39msplit())\n\u001b[0;32m     92\u001b[0m \u001b[38;5;28;01mif\u001b[39;00m board[row][col] \u001b[38;5;241m!=\u001b[39m \u001b[38;5;124m'\u001b[39m\u001b[38;5;124m \u001b[39m\u001b[38;5;124m'\u001b[39m:\n\u001b[0;32m     93\u001b[0m     \u001b[38;5;28mprint\u001b[39m(\u001b[38;5;124m\"\u001b[39m\u001b[38;5;124mInvalid move! Try again.\u001b[39m\u001b[38;5;124m\"\u001b[39m)\n",
      "\u001b[1;31mValueError\u001b[0m: not enough values to unpack (expected 2, got 0)"
     ]
    }
   ],
   "source": [
    "import random\n",
    "\n",
    "# Define constants for the game\n",
    "PLAYER = 'X'  # User\n",
    "AI = 'O'      # Computer\n",
    "\n",
    "# Display the board\n",
    "def print_board(board):\n",
    "    for row in board:\n",
    "        print(\" | \".join(row))\n",
    "        print(\"-\" * 5)\n",
    "\n",
    "# Check if there is a winner\n",
    "def check_winner(board, player):\n",
    "    # Check rows, columns, and diagonals\n",
    "    for i in range(3):\n",
    "        if all([cell == player for cell in board[i]]):  # Check row\n",
    "            return True\n",
    "        if all([board[j][i] == player for j in range(3)]):  # Check column\n",
    "            return True\n",
    "    if all([board[i][i] == player for i in range(3)]):  # Check diagonal\n",
    "        return True\n",
    "    if all([board[i][2 - i] == player for i in range(3)]):  # Check anti-diagonal\n",
    "        return True\n",
    "    return False\n",
    "\n",
    "# Check if the board is full\n",
    "def is_full(board):\n",
    "    return all(cell != ' ' for row in board for cell in row)\n",
    "\n",
    "# Minimax algorithm\n",
    "def minimax(board, depth, is_maximizing):\n",
    "    # Check if the game is over and return the score\n",
    "    if check_winner(board, AI):\n",
    "        return 1  # AI wins\n",
    "    if check_winner(board, PLAYER):\n",
    "        return -1  # Player wins\n",
    "    if is_full(board):\n",
    "        return 0  # Draw\n",
    "\n",
    "    # Maximizing player's turn (AI)\n",
    "    if is_maximizing:\n",
    "        best = -float('inf')\n",
    "        for i in range(3):\n",
    "            for j in range(3):\n",
    "                if board[i][j] == ' ':\n",
    "                    board[i][j] = AI\n",
    "                    best = max(best, minimax(board, depth + 1, False))\n",
    "                    board[i][j] = ' '  # Undo move\n",
    "        return best\n",
    "    # Minimizing player's turn (Player)\n",
    "    else:\n",
    "        best = float('inf')\n",
    "        for i in range(3):\n",
    "            for j in range(3):\n",
    "                if board[i][j] == ' ':\n",
    "                    board[i][j] = PLAYER\n",
    "                    best = min(best, minimax(board, depth + 1, True))\n",
    "                    board[i][j] = ' '  # Undo move\n",
    "        return best\n",
    "\n",
    "# Find the best move for AI\n",
    "def best_move(board):\n",
    "    best_val = -float('inf')\n",
    "    move = (-1, -1)\n",
    "\n",
    "    for i in range(3):\n",
    "        for j in range(3):\n",
    "            if board[i][j] == ' ':\n",
    "                board[i][j] = AI\n",
    "                move_val = minimax(board, 0, False)\n",
    "                board[i][j] = ' '  # Undo move\n",
    "\n",
    "                if move_val > best_val:\n",
    "                    move = (i, j)\n",
    "                    best_val = move_val\n",
    "\n",
    "    return move\n",
    "\n",
    "# Main game loop\n",
    "def play_game():\n",
    "    # Initialize the board\n",
    "    board = [[' ' for _ in range(3)] for _ in range(3)]\n",
    "\n",
    "    while True:\n",
    "        # Print the board\n",
    "        print_board(board)\n",
    "\n",
    "        # Player's move\n",
    "        print(\"Player's turn (X):\")\n",
    "        row, col = map(int, input(\"Enter row and column (0-2) separated by space: \").split())\n",
    "        if board[row][col] != ' ':\n",
    "            print(\"Invalid move! Try again.\")\n",
    "            continue\n",
    "        board[row][col] = PLAYER\n",
    "\n",
    "        # Check if player wins\n",
    "        if check_winner(board, PLAYER):\n",
    "            print_board(board)\n",
    "            print(\"Player wins!\")\n",
    "            break\n",
    "\n",
    "        # Check if the board is full\n",
    "        if is_full(board):\n",
    "            print_board(board)\n",
    "            print(\"It's a draw!\")\n",
    "            break\n",
    "\n",
    "        # AI's move\n",
    "        print(\"AI's turn (O):\")\n",
    "        row, col = best_move(board)\n",
    "        board[row][col] = AI\n",
    "        print(f\"AI chooses: {row} {col}\")\n",
    "\n",
    "        # Check if AI wins\n",
    "        if check_winner(board, AI):\n",
    "            print_board(board)\n",
    "            print(\"AI wins!\")\n",
    "            break\n",
    "\n",
    "        # Check if the board is full\n",
    "        if is_full(board):\n",
    "            print_board(board)\n",
    "            print(\"It's a draw!\")\n",
    "            break\n",
    "\n",
    "if __name__ == \"__main__\":\n",
    "    play_game()"
   ]
  }
 ],
 "metadata": {
  "kernelspec": {
   "display_name": "base",
   "language": "python",
   "name": "python3"
  },
  "language_info": {
   "codemirror_mode": {
    "name": "ipython",
    "version": 3
   },
   "file_extension": ".py",
   "mimetype": "text/x-python",
   "name": "python",
   "nbconvert_exporter": "python",
   "pygments_lexer": "ipython3",
   "version": "3.12.4"
  }
 },
 "nbformat": 4,
 "nbformat_minor": 2
}
